{
 "cells": [
  {
   "cell_type": "code",
   "execution_count": 1,
   "id": "02fb46a9",
   "metadata": {},
   "outputs": [],
   "source": [
    "# 1.) Write a small function call extract_header"
   ]
  },
  {
   "cell_type": "code",
   "execution_count": 207,
   "id": "afe08ad1",
   "metadata": {},
   "outputs": [],
   "source": [
    "import re\n",
    "import pandas as pd\n",
    "import matplotlib.pyplot as plt"
   ]
  },
  {
   "cell_type": "code",
   "execution_count": 221,
   "id": "51f6dfeb",
   "metadata": {},
   "outputs": [],
   "source": [
    "def extract_header(filename,comment_prefix,header_row_index,header_row_delimiter ):\n",
    "    \"\"\" a small function that extract the header\"\"\"\n",
    "    # First exercise Read text file\n",
    "    file = open(\"Land_and_Ocean_summary.txt\",\"r\")\n",
    "    list_of_lines = file.readlines()\n",
    "    file.close()\n",
    "    comment=[]\n",
    "    for line in list_of_lines:\n",
    "        line = line.strip(\"\\n\")\n",
    "        if comment_prefix in line:\n",
    "            line = line.strip(comment_prefix+\" \")\n",
    "            line = line.split(header_row_delimiter+\" \")\n",
    "            comment.append(line)\n",
    "    return comment[header_row_index]"
   ]
  },
  {
   "cell_type": "code",
   "execution_count": 222,
   "id": "df7bc904",
   "metadata": {},
   "outputs": [],
   "source": [
    "header = extract_header('Land_and_Ocean_summary.txt', comment_prefix='%', header_row_index=-1, header_row_delimiter=',')"
   ]
  },
  {
   "cell_type": "code",
   "execution_count": 223,
   "id": "ee4f3f83",
   "metadata": {},
   "outputs": [
    {
     "data": {
      "text/plain": [
       "['Year',\n",
       " 'Annual Anomaly',\n",
       " 'Annual Unc.',\n",
       " 'Five-year Anomaly',\n",
       " 'Five-year Unc.',\n",
       " 'Annual Anomaly',\n",
       " 'Annual Unc.',\n",
       " 'Five-year Anomaly',\n",
       " 'Five-year Unc.']"
      ]
     },
     "execution_count": 223,
     "metadata": {},
     "output_type": "execute_result"
    }
   ],
   "source": [
    "header"
   ]
  },
  {
   "cell_type": "code",
   "execution_count": 224,
   "id": "ef35eb36",
   "metadata": {},
   "outputs": [],
   "source": [
    "# 2.) The function should return a dataframe, where the first column (i.e. the year) is the index"
   ]
  },
  {
   "cell_type": "code",
   "execution_count": 252,
   "id": "347a09fe",
   "metadata": {},
   "outputs": [],
   "source": [
    "def read_anomaly_data_into_dataframe (filename, header, max_cols, comment_prefix):\n",
    "    \"\"\" Read anomaly data into dataframe using pandas read table.\n",
    "    \"\"\"\n",
    "    x = pd.read_table(filename, comment = comment_prefix, names=header[:max_cols],index_col=0,delimiter=\"\\s+\",usecols=range(0,max_cols))   \n",
    "    return x"
   ]
  },
  {
   "cell_type": "code",
   "execution_count": 253,
   "id": "01720d6b",
   "metadata": {},
   "outputs": [],
   "source": [
    "anomaly_df = read_anomaly_data_into_dataframe('Land_and_Ocean_summary.txt', header, max_cols=5, comment_prefix='%')"
   ]
  },
  {
   "cell_type": "code",
   "execution_count": 254,
   "id": "4d9a59b5",
   "metadata": {},
   "outputs": [
    {
     "data": {
      "text/html": [
       "<div>\n",
       "<style scoped>\n",
       "    .dataframe tbody tr th:only-of-type {\n",
       "        vertical-align: middle;\n",
       "    }\n",
       "\n",
       "    .dataframe tbody tr th {\n",
       "        vertical-align: top;\n",
       "    }\n",
       "\n",
       "    .dataframe thead th {\n",
       "        text-align: right;\n",
       "    }\n",
       "</style>\n",
       "<table border=\"1\" class=\"dataframe\">\n",
       "  <thead>\n",
       "    <tr style=\"text-align: right;\">\n",
       "      <th></th>\n",
       "      <th>Annual Anomaly</th>\n",
       "      <th>Annual Unc.</th>\n",
       "      <th>Five-year Anomaly</th>\n",
       "      <th>Five-year Unc.</th>\n",
       "    </tr>\n",
       "    <tr>\n",
       "      <th>Year</th>\n",
       "      <th></th>\n",
       "      <th></th>\n",
       "      <th></th>\n",
       "      <th></th>\n",
       "    </tr>\n",
       "  </thead>\n",
       "  <tbody>\n",
       "    <tr>\n",
       "      <th>1850</th>\n",
       "      <td>-0.532</td>\n",
       "      <td>0.154</td>\n",
       "      <td>NaN</td>\n",
       "      <td>NaN</td>\n",
       "    </tr>\n",
       "    <tr>\n",
       "      <th>1851</th>\n",
       "      <td>-0.405</td>\n",
       "      <td>0.169</td>\n",
       "      <td>NaN</td>\n",
       "      <td>NaN</td>\n",
       "    </tr>\n",
       "    <tr>\n",
       "      <th>1852</th>\n",
       "      <td>-0.395</td>\n",
       "      <td>0.165</td>\n",
       "      <td>-0.423</td>\n",
       "      <td>0.121</td>\n",
       "    </tr>\n",
       "    <tr>\n",
       "      <th>1853</th>\n",
       "      <td>-0.418</td>\n",
       "      <td>0.158</td>\n",
       "      <td>-0.384</td>\n",
       "      <td>0.109</td>\n",
       "    </tr>\n",
       "    <tr>\n",
       "      <th>1854</th>\n",
       "      <td>-0.363</td>\n",
       "      <td>0.142</td>\n",
       "      <td>-0.400</td>\n",
       "      <td>0.090</td>\n",
       "    </tr>\n",
       "    <tr>\n",
       "      <th>...</th>\n",
       "      <td>...</td>\n",
       "      <td>...</td>\n",
       "      <td>...</td>\n",
       "      <td>...</td>\n",
       "    </tr>\n",
       "    <tr>\n",
       "      <th>2014</th>\n",
       "      <td>0.675</td>\n",
       "      <td>0.045</td>\n",
       "      <td>0.728</td>\n",
       "      <td>0.040</td>\n",
       "    </tr>\n",
       "    <tr>\n",
       "      <th>2015</th>\n",
       "      <td>0.814</td>\n",
       "      <td>0.043</td>\n",
       "      <td>0.777</td>\n",
       "      <td>0.041</td>\n",
       "    </tr>\n",
       "    <tr>\n",
       "      <th>2016</th>\n",
       "      <td>0.949</td>\n",
       "      <td>0.044</td>\n",
       "      <td>0.808</td>\n",
       "      <td>0.040</td>\n",
       "    </tr>\n",
       "    <tr>\n",
       "      <th>2017</th>\n",
       "      <td>0.834</td>\n",
       "      <td>0.045</td>\n",
       "      <td>NaN</td>\n",
       "      <td>NaN</td>\n",
       "    </tr>\n",
       "    <tr>\n",
       "      <th>2018</th>\n",
       "      <td>0.770</td>\n",
       "      <td>0.043</td>\n",
       "      <td>NaN</td>\n",
       "      <td>NaN</td>\n",
       "    </tr>\n",
       "  </tbody>\n",
       "</table>\n",
       "<p>169 rows × 4 columns</p>\n",
       "</div>"
      ],
      "text/plain": [
       "      Annual Anomaly  Annual Unc.  Five-year Anomaly  Five-year Unc.\n",
       "Year                                                                \n",
       "1850          -0.532        0.154                NaN             NaN\n",
       "1851          -0.405        0.169                NaN             NaN\n",
       "1852          -0.395        0.165             -0.423           0.121\n",
       "1853          -0.418        0.158             -0.384           0.109\n",
       "1854          -0.363        0.142             -0.400           0.090\n",
       "...              ...          ...                ...             ...\n",
       "2014           0.675        0.045              0.728           0.040\n",
       "2015           0.814        0.043              0.777           0.041\n",
       "2016           0.949        0.044              0.808           0.040\n",
       "2017           0.834        0.045                NaN             NaN\n",
       "2018           0.770        0.043                NaN             NaN\n",
       "\n",
       "[169 rows x 4 columns]"
      ]
     },
     "execution_count": 254,
     "metadata": {},
     "output_type": "execute_result"
    }
   ],
   "source": [
    "anomaly_df "
   ]
  },
  {
   "cell_type": "code",
   "execution_count": 255,
   "id": "19f024b9",
   "metadata": {},
   "outputs": [],
   "source": [
    "# 3.) pandas functionality to do some calculations."
   ]
  },
  {
   "cell_type": "code",
   "execution_count": 289,
   "id": "bb43a8f0",
   "metadata": {},
   "outputs": [],
   "source": [
    "def anomaly_avg_per_decade(anomaly_df):\n",
    "    \"\"\" \n",
    "    functionality to do some calculations. \n",
    "    \"\"\"\n",
    "    anomaly_df['New'] = anomaly_df.index\n",
    "    anomaly_df['New']= anomaly_df['New'].astype(str)\n",
    "#    anomaly_df['Sub'] = anomaly_df.New.str.slice(0,3) + \"0\"\n",
    "#    a = anomaly_df.groupby('Sub')['Annual Anomaly'].mean()\n",
    "    a_group = anomaly_df.groupby(anomaly_df.index//10*10).mean()\n",
    "    annu = a_group.loc[:,'Annual Anomaly']\n",
    "    return annu"
   ]
  },
  {
   "cell_type": "code",
   "execution_count": 290,
   "id": "14afcb4e",
   "metadata": {},
   "outputs": [],
   "source": [
    "anomalies_per_decade = anomaly_avg_per_decade(anomaly_df)"
   ]
  },
  {
   "cell_type": "code",
   "execution_count": 291,
   "id": "dd4062c1",
   "metadata": {},
   "outputs": [
    {
     "data": {
      "text/plain": [
       "Year\n",
       "1850   -0.441500\n",
       "1860   -0.406900\n",
       "1870   -0.297600\n",
       "1880   -0.403400\n",
       "1890   -0.391000\n",
       "1900   -0.395700\n",
       "1910   -0.402900\n",
       "1920   -0.250800\n",
       "1930   -0.128200\n",
       "1940    0.013200\n",
       "1950   -0.015800\n",
       "1960   -0.015100\n",
       "1970   -0.007300\n",
       "1980    0.169800\n",
       "1990    0.338600\n",
       "2000    0.551000\n",
       "2010    0.723222\n",
       "Name: Annual Anomaly, dtype: float64"
      ]
     },
     "execution_count": 291,
     "metadata": {},
     "output_type": "execute_result"
    }
   ],
   "source": [
    "anomalies_per_decade"
   ]
  },
  {
   "cell_type": "code",
   "execution_count": 292,
   "id": "3990621f",
   "metadata": {},
   "outputs": [],
   "source": [
    "#4. Create a new cell where you plot"
   ]
  },
  {
   "cell_type": "code",
   "execution_count": 293,
   "id": "2f3f2f00",
   "metadata": {},
   "outputs": [
    {
     "data": {
      "text/plain": [
       "[<matplotlib.lines.Line2D at 0x7ff43e7f3310>]"
      ]
     },
     "execution_count": 293,
     "metadata": {},
     "output_type": "execute_result"
    },
    {
     "data": {
      "image/png": "[encoded data removed]",
      "text/plain": [
       "<Figure size 432x288 with 1 Axes>"
      ]
     },
     "metadata": {
      "needs_background": "light"
     },
     "output_type": "display_data"
    }
   ],
   "source": [
    "plt.plot(anomalies_per_decade)"
   ]
  },
  {
   "cell_type": "code",
   "execution_count": null,
   "id": "dade2c7b",
   "metadata": {},
   "outputs": [],
   "source": []
  }
 ],
 "metadata": {
  "kernelspec": {
   "display_name": "Python 3",
   "language": "python",
   "name": "python3"
  },
  "language_info": {
   "codemirror_mode": {
    "name": "ipython",
    "version": 3
   },
   "file_extension": ".py",
   "mimetype": "text/x-python",
   "name": "python",
   "nbconvert_exporter": "python",
   "pygments_lexer": "ipython3",
   "version": "3.8.8"
  }
 },
 "nbformat": 4,
 "nbformat_minor": 5
}
